{
 "cells": [
  {
   "cell_type": "code",
   "execution_count": 1,
   "metadata": {},
   "outputs": [],
   "source": [
    "#Dependencies\n",
    "from bs4 import BeautifulSoup as bs\n",
    "import requests\n",
    "from splinter import Browser\n",
    "import time\n",
    "import pandas as pd\n",
    "import requests\n",
    "from pprint import pprint\n",
    "from sqlalchemy import create_engine\n",
    "from sqlalchemy import Column, Integer, String, Float\n",
    "import numpy as np\n",
    "\n",
    "from sqlalchemy.ext.declarative import declarative_base\n",
    "Base = declarative_base()"
   ]
  },
  {
   "cell_type": "code",
   "execution_count": 2,
   "metadata": {},
   "outputs": [],
   "source": [
    "#Population pull\n",
    "population_url = race_url = \"https://api.census.gov/data/2010/dec/sf1?get=NAME,P001001&for=state:*&key=59a41ecf0dff091bd991b35c87176ffd56b8107d\"\n",
    "population = requests.get(population_url).json()"
   ]
  },
  {
   "cell_type": "code",
   "execution_count": 3,
   "metadata": {},
   "outputs": [],
   "source": [
    "population_df = pd.DataFrame(population)\n",
    "population_df.columns = population_df.iloc[0]\n",
    "population_df = population_df.reindex(population_df.index.drop(0))\n",
    "population_df = population_df.rename(columns={\"NAME\":\"State\",\"P001001\":\"population\",\"state\":\"count\"})\n",
    "population_df = population_df[['State','population']]\n",
    "population_df.head(52)\n",
    "population_df.to_excel(\"pop_data.xlsx\")"
   ]
  },
  {
   "cell_type": "code",
   "execution_count": 4,
   "metadata": {},
   "outputs": [],
   "source": [
    "#astype(float).sum(axis=1)\n",
    "population_df[\"population\"]= population_df[\"population\"].astype(int) "
   ]
  },
  {
   "cell_type": "code",
   "execution_count": 5,
   "metadata": {},
   "outputs": [],
   "source": [
    "#Append row with US which is sum of entire populations\n",
    "total = population_df.apply(np.sum)\n",
    "total['State'] = 'US'\n",
    "population_df = population_df.append(pd.DataFrame(total.values, index=total.keys()).T, ignore_index=True)"
   ]
  },
  {
   "cell_type": "code",
   "execution_count": 6,
   "metadata": {},
   "outputs": [
    {
     "data": {
      "text/html": [
       "<div>\n",
       "<style scoped>\n",
       "    .dataframe tbody tr th:only-of-type {\n",
       "        vertical-align: middle;\n",
       "    }\n",
       "\n",
       "    .dataframe tbody tr th {\n",
       "        vertical-align: top;\n",
       "    }\n",
       "\n",
       "    .dataframe thead th {\n",
       "        text-align: right;\n",
       "    }\n",
       "</style>\n",
       "<table border=\"1\" class=\"dataframe\">\n",
       "  <thead>\n",
       "    <tr style=\"text-align: right;\">\n",
       "      <th></th>\n",
       "      <th>State</th>\n",
       "      <th>population</th>\n",
       "    </tr>\n",
       "  </thead>\n",
       "  <tbody>\n",
       "    <tr>\n",
       "      <th>51</th>\n",
       "      <td>Puerto Rico</td>\n",
       "      <td>3725789</td>\n",
       "    </tr>\n",
       "    <tr>\n",
       "      <th>52</th>\n",
       "      <td>US</td>\n",
       "      <td>312471327</td>\n",
       "    </tr>\n",
       "  </tbody>\n",
       "</table>\n",
       "</div>"
      ],
      "text/plain": [
       "0         State population\n",
       "51  Puerto Rico    3725789\n",
       "52           US  312471327"
      ]
     },
     "execution_count": 6,
     "metadata": {},
     "output_type": "execute_result"
    }
   ],
   "source": [
    "population_df.tail(2)"
   ]
  },
  {
   "cell_type": "code",
   "execution_count": 7,
   "metadata": {},
   "outputs": [],
   "source": [
    "#Race pull\n",
    "race_url = \"https://api.census.gov/data/2010/dec/sf1?get=NAME,PCT012C001,PCT012D001,PCT012B001,PCT012H001,PCT012E001,PCT012F001,PCT012G001,PCT012A001&for=state:*&key=59a41ecf0dff091bd991b35c87176ffd56b8107d\"\n",
    "race = requests.get(race_url).json()"
   ]
  },
  {
   "cell_type": "code",
   "execution_count": 8,
   "metadata": {},
   "outputs": [
    {
     "data": {
      "text/html": [
       "<div>\n",
       "<style scoped>\n",
       "    .dataframe tbody tr th:only-of-type {\n",
       "        vertical-align: middle;\n",
       "    }\n",
       "\n",
       "    .dataframe tbody tr th {\n",
       "        vertical-align: top;\n",
       "    }\n",
       "\n",
       "    .dataframe thead th {\n",
       "        text-align: right;\n",
       "    }\n",
       "</style>\n",
       "<table border=\"1\" class=\"dataframe\">\n",
       "  <thead>\n",
       "    <tr style=\"text-align: right;\">\n",
       "      <th></th>\n",
       "      <th>State</th>\n",
       "      <th>american_indian_and_alaska_native</th>\n",
       "      <th>asian</th>\n",
       "      <th>black_or_african_american</th>\n",
       "      <th>hispanic_or_latino</th>\n",
       "      <th>native_hawaiian_other_pacific_islander</th>\n",
       "      <th>some_other_race</th>\n",
       "      <th>two_or_more_races</th>\n",
       "      <th>white</th>\n",
       "    </tr>\n",
       "  </thead>\n",
       "  <tbody>\n",
       "    <tr>\n",
       "      <th>51</th>\n",
       "      <td>Wyoming</td>\n",
       "      <td>13336</td>\n",
       "      <td>4426</td>\n",
       "      <td>4748</td>\n",
       "      <td>50231</td>\n",
       "      <td>427</td>\n",
       "      <td>17049</td>\n",
       "      <td>12361</td>\n",
       "      <td>511279</td>\n",
       "    </tr>\n",
       "    <tr>\n",
       "      <th>52</th>\n",
       "      <td>Puerto Rico</td>\n",
       "      <td>19839</td>\n",
       "      <td>6831</td>\n",
       "      <td>461498</td>\n",
       "      <td>3688455</td>\n",
       "      <td>370</td>\n",
       "      <td>289905</td>\n",
       "      <td>122246</td>\n",
       "      <td>2825100</td>\n",
       "    </tr>\n",
       "  </tbody>\n",
       "</table>\n",
       "</div>"
      ],
      "text/plain": [
       "0         State american_indian_and_alaska_native asian  \\\n",
       "51      Wyoming                             13336  4426   \n",
       "52  Puerto Rico                             19839  6831   \n",
       "\n",
       "0  black_or_african_american hispanic_or_latino  \\\n",
       "51                      4748              50231   \n",
       "52                    461498            3688455   \n",
       "\n",
       "0  native_hawaiian_other_pacific_islander some_other_race two_or_more_races  \\\n",
       "51                                    427           17049             12361   \n",
       "52                                    370          289905            122246   \n",
       "\n",
       "0     white  \n",
       "51   511279  \n",
       "52  2825100  "
      ]
     },
     "execution_count": 8,
     "metadata": {},
     "output_type": "execute_result"
    }
   ],
   "source": [
    "race_df = pd.DataFrame(race)\n",
    "race_df.columns = race_df.iloc[0]\n",
    "race_df = race_df.reindex(race_df.index.drop(0))\n",
    "race_df = race_df.rename(columns={\"NAME\":\"State\",\"PCT012C001\":\"american_indian_and_alaska_native\",\"PCT012D001\":\"asian\",\"PCT012B001\":\"black_or_african_american\",\"PCT012H001\":\"hispanic_or_latino\",\"PCT012E001\":\"native_hawaiian_other_pacific_islander\",\"PCT012F001\":\"some_other_race\",\"PCT012G001\":\"two_or_more_races\",\"PCT012A001\":\"white\"})\n",
    "del race_df['state']\n",
    "race_df.tail(2)"
   ]
  },
  {
   "cell_type": "code",
   "execution_count": 9,
   "metadata": {},
   "outputs": [],
   "source": [
    "#Change columns to int\n",
    "race_df[\"american_indian_and_alaska_native\"]= race_df[\"american_indian_and_alaska_native\"].astype(int)\n",
    "race_df[\"asian\"]= race_df[\"asian\"].astype(int)\n",
    "race_df[\"black_or_african_american\"]= race_df[\"black_or_african_american\"].astype(int)\n",
    "race_df[\"hispanic_or_latino\"]= race_df[\"hispanic_or_latino\"].astype(int)\n",
    "race_df[\"native_hawaiian_other_pacific_islander\"]= race_df[\"native_hawaiian_other_pacific_islander\"].astype(int)\n",
    "race_df[\"some_other_race\"]= race_df[\"some_other_race\"].astype(int) \n",
    "race_df[\"two_or_more_races\"]= race_df[\"two_or_more_races\"].astype(int) \n",
    "race_df[\"white\"]= race_df[\"white\"].astype(int) "
   ]
  },
  {
   "cell_type": "code",
   "execution_count": 10,
   "metadata": {},
   "outputs": [],
   "source": [
    "#Append row with US which is sum of entire populations\n",
    "total_race = race_df.apply(np.sum)\n",
    "total_race['State'] = 'US'\n",
    "race_df = race_df.append(pd.DataFrame(total_race.values, index=total_race.keys()).T, ignore_index=True)"
   ]
  },
  {
   "cell_type": "code",
   "execution_count": 11,
   "metadata": {},
   "outputs": [
    {
     "data": {
      "text/html": [
       "<div>\n",
       "<style scoped>\n",
       "    .dataframe tbody tr th:only-of-type {\n",
       "        vertical-align: middle;\n",
       "    }\n",
       "\n",
       "    .dataframe tbody tr th {\n",
       "        vertical-align: top;\n",
       "    }\n",
       "\n",
       "    .dataframe thead th {\n",
       "        text-align: right;\n",
       "    }\n",
       "</style>\n",
       "<table border=\"1\" class=\"dataframe\">\n",
       "  <thead>\n",
       "    <tr style=\"text-align: right;\">\n",
       "      <th></th>\n",
       "      <th>State</th>\n",
       "      <th>american_indian_and_alaska_native</th>\n",
       "      <th>asian</th>\n",
       "      <th>black_or_african_american</th>\n",
       "      <th>hispanic_or_latino</th>\n",
       "      <th>native_hawaiian_other_pacific_islander</th>\n",
       "      <th>some_other_race</th>\n",
       "      <th>two_or_more_races</th>\n",
       "      <th>white</th>\n",
       "    </tr>\n",
       "  </thead>\n",
       "  <tbody>\n",
       "    <tr>\n",
       "      <th>51</th>\n",
       "      <td>Puerto Rico</td>\n",
       "      <td>19839</td>\n",
       "      <td>6831</td>\n",
       "      <td>461498</td>\n",
       "      <td>3688455</td>\n",
       "      <td>370</td>\n",
       "      <td>289905</td>\n",
       "      <td>122246</td>\n",
       "      <td>2825100</td>\n",
       "    </tr>\n",
       "    <tr>\n",
       "      <th>52</th>\n",
       "      <td>US</td>\n",
       "      <td>2952087</td>\n",
       "      <td>14681083</td>\n",
       "      <td>39390817</td>\n",
       "      <td>54166049</td>\n",
       "      <td>540383</td>\n",
       "      <td>19397273</td>\n",
       "      <td>9131319</td>\n",
       "      <td>226378365</td>\n",
       "    </tr>\n",
       "  </tbody>\n",
       "</table>\n",
       "</div>"
      ],
      "text/plain": [
       "0         State american_indian_and_alaska_native     asian  \\\n",
       "51  Puerto Rico                             19839      6831   \n",
       "52           US                           2952087  14681083   \n",
       "\n",
       "0  black_or_african_american hispanic_or_latino  \\\n",
       "51                    461498            3688455   \n",
       "52                  39390817           54166049   \n",
       "\n",
       "0  native_hawaiian_other_pacific_islander some_other_race two_or_more_races  \\\n",
       "51                                    370          289905            122246   \n",
       "52                                 540383        19397273           9131319   \n",
       "\n",
       "0       white  \n",
       "51    2825100  \n",
       "52  226378365  "
      ]
     },
     "execution_count": 11,
     "metadata": {},
     "output_type": "execute_result"
    }
   ],
   "source": [
    "race_df.tail(2)"
   ]
  },
  {
   "cell_type": "code",
   "execution_count": 12,
   "metadata": {},
   "outputs": [],
   "source": [
    "#Household Size pull\n",
    "house_size_url = \"https://api.census.gov/data/2010/dec/sf1?get=NAME,H013002,H013003,H013004,H013005,H013006,H013007,H013008&for=state:*&key=59a41ecf0dff091bd991b35c87176ffd56b8107d\"\n",
    "size = requests.get(house_size_url).json()"
   ]
  },
  {
   "cell_type": "code",
   "execution_count": 13,
   "metadata": {},
   "outputs": [
    {
     "data": {
      "text/html": [
       "<div>\n",
       "<style scoped>\n",
       "    .dataframe tbody tr th:only-of-type {\n",
       "        vertical-align: middle;\n",
       "    }\n",
       "\n",
       "    .dataframe tbody tr th {\n",
       "        vertical-align: top;\n",
       "    }\n",
       "\n",
       "    .dataframe thead th {\n",
       "        text-align: right;\n",
       "    }\n",
       "</style>\n",
       "<table border=\"1\" class=\"dataframe\">\n",
       "  <thead>\n",
       "    <tr style=\"text-align: right;\">\n",
       "      <th></th>\n",
       "      <th>State</th>\n",
       "      <th>1_persons_or_more</th>\n",
       "      <th>2_persons_or_more</th>\n",
       "      <th>3_persons_or_more</th>\n",
       "      <th>4_persons_or_more</th>\n",
       "      <th>5_persons_or_more</th>\n",
       "      <th>6_persons_or_more</th>\n",
       "      <th>7_persons_or_more</th>\n",
       "    </tr>\n",
       "  </thead>\n",
       "  <tbody>\n",
       "    <tr>\n",
       "      <th>51</th>\n",
       "      <td>Wyoming</td>\n",
       "      <td>63480</td>\n",
       "      <td>83568</td>\n",
       "      <td>33043</td>\n",
       "      <td>26654</td>\n",
       "      <td>12444</td>\n",
       "      <td>4825</td>\n",
       "      <td>2865</td>\n",
       "    </tr>\n",
       "    <tr>\n",
       "      <th>52</th>\n",
       "      <td>Puerto Rico</td>\n",
       "      <td>327560</td>\n",
       "      <td>391452</td>\n",
       "      <td>280818</td>\n",
       "      <td>227988</td>\n",
       "      <td>99560</td>\n",
       "      <td>31434</td>\n",
       "      <td>17719</td>\n",
       "    </tr>\n",
       "  </tbody>\n",
       "</table>\n",
       "</div>"
      ],
      "text/plain": [
       "0         State 1_persons_or_more 2_persons_or_more 3_persons_or_more  \\\n",
       "51      Wyoming             63480             83568             33043   \n",
       "52  Puerto Rico            327560            391452            280818   \n",
       "\n",
       "0  4_persons_or_more 5_persons_or_more 6_persons_or_more 7_persons_or_more  \n",
       "51             26654             12444              4825              2865  \n",
       "52            227988             99560             31434             17719  "
      ]
     },
     "execution_count": 13,
     "metadata": {},
     "output_type": "execute_result"
    }
   ],
   "source": [
    "household_size_df = pd.DataFrame(size)\n",
    "household_size_df.columns = household_size_df.iloc[0]\n",
    "household_size_df = household_size_df.reindex(household_size_df.index.drop(0))\n",
    "household_size_df = household_size_df.rename(columns={\"NAME\":\"State\",\"H013002\":\"1_persons_or_more\",\"H013003\":\"2_persons_or_more\",\"H013004\":\"3_persons_or_more\",\"H013005\":\"4_persons_or_more\",\"H013006\":\"5_persons_or_more\",\"H013007\":\"6_persons_or_more\",\"H013008\":\"7_persons_or_more\"})\n",
    "del household_size_df['state']\n",
    "household_size_df.tail(2)"
   ]
  },
  {
   "cell_type": "code",
   "execution_count": 14,
   "metadata": {},
   "outputs": [
    {
     "data": {
      "text/html": [
       "<div>\n",
       "<style scoped>\n",
       "    .dataframe tbody tr th:only-of-type {\n",
       "        vertical-align: middle;\n",
       "    }\n",
       "\n",
       "    .dataframe tbody tr th {\n",
       "        vertical-align: top;\n",
       "    }\n",
       "\n",
       "    .dataframe thead th {\n",
       "        text-align: right;\n",
       "    }\n",
       "</style>\n",
       "<table border=\"1\" class=\"dataframe\">\n",
       "  <thead>\n",
       "    <tr style=\"text-align: right;\">\n",
       "      <th></th>\n",
       "      <th>State</th>\n",
       "      <th>1_persons_or_more</th>\n",
       "      <th>2_persons_or_more</th>\n",
       "      <th>3_persons_or_more</th>\n",
       "      <th>4_persons_or_more</th>\n",
       "      <th>5_persons_or_more</th>\n",
       "      <th>6_persons_or_more</th>\n",
       "      <th>7_persons_or_more</th>\n",
       "      <th>1_or_2_persons</th>\n",
       "      <th>3_or_4_persons</th>\n",
       "      <th>5_or_more_persons</th>\n",
       "    </tr>\n",
       "  </thead>\n",
       "  <tbody>\n",
       "    <tr>\n",
       "      <th>51</th>\n",
       "      <td>Wyoming</td>\n",
       "      <td>63480</td>\n",
       "      <td>83568</td>\n",
       "      <td>33043</td>\n",
       "      <td>26654</td>\n",
       "      <td>12444</td>\n",
       "      <td>4825</td>\n",
       "      <td>2865</td>\n",
       "      <td>147048</td>\n",
       "      <td>59697</td>\n",
       "      <td>20134</td>\n",
       "    </tr>\n",
       "    <tr>\n",
       "      <th>52</th>\n",
       "      <td>Puerto Rico</td>\n",
       "      <td>327560</td>\n",
       "      <td>391452</td>\n",
       "      <td>280818</td>\n",
       "      <td>227988</td>\n",
       "      <td>99560</td>\n",
       "      <td>31434</td>\n",
       "      <td>17719</td>\n",
       "      <td>719012</td>\n",
       "      <td>508806</td>\n",
       "      <td>148713</td>\n",
       "    </tr>\n",
       "  </tbody>\n",
       "</table>\n",
       "</div>"
      ],
      "text/plain": [
       "0         State 1_persons_or_more 2_persons_or_more 3_persons_or_more  \\\n",
       "51      Wyoming             63480             83568             33043   \n",
       "52  Puerto Rico            327560            391452            280818   \n",
       "\n",
       "0  4_persons_or_more 5_persons_or_more 6_persons_or_more 7_persons_or_more  \\\n",
       "51             26654             12444              4825              2865   \n",
       "52            227988             99560             31434             17719   \n",
       "\n",
       "0   1_or_2_persons  3_or_4_persons  5_or_more_persons  \n",
       "51          147048           59697              20134  \n",
       "52          719012          508806             148713  "
      ]
     },
     "execution_count": 14,
     "metadata": {},
     "output_type": "execute_result"
    }
   ],
   "source": [
    "#Function to sum columns \n",
    "def sum_household_by_column(frame, new_col_name, list_of_cols_to_sum):\n",
    "    frame[new_col_name] = frame[list_of_cols_to_sum].astype(int).sum(axis=1)\n",
    "    return(frame)\n",
    "\n",
    "#Create new columns with total of combined\n",
    "household_size_df = sum_household_by_column(household_size_df, '1_or_2_persons', ['1_persons_or_more','2_persons_or_more'])\n",
    "household_size_df = sum_household_by_column(household_size_df, '3_or_4_persons', ['3_persons_or_more','4_persons_or_more'])\n",
    "household_size_df = sum_household_by_column(household_size_df, '5_or_more_persons', ['5_persons_or_more','6_persons_or_more','7_persons_or_more'])\n",
    "household_size_df.tail(2)"
   ]
  },
  {
   "cell_type": "code",
   "execution_count": 15,
   "metadata": {},
   "outputs": [
    {
     "data": {
      "text/html": [
       "<div>\n",
       "<style scoped>\n",
       "    .dataframe tbody tr th:only-of-type {\n",
       "        vertical-align: middle;\n",
       "    }\n",
       "\n",
       "    .dataframe tbody tr th {\n",
       "        vertical-align: top;\n",
       "    }\n",
       "\n",
       "    .dataframe thead th {\n",
       "        text-align: right;\n",
       "    }\n",
       "</style>\n",
       "<table border=\"1\" class=\"dataframe\">\n",
       "  <thead>\n",
       "    <tr style=\"text-align: right;\">\n",
       "      <th></th>\n",
       "      <th>State</th>\n",
       "      <th>1_or_2_persons</th>\n",
       "      <th>3_or_4_persons</th>\n",
       "      <th>5_or_more_persons</th>\n",
       "    </tr>\n",
       "  </thead>\n",
       "  <tbody>\n",
       "    <tr>\n",
       "      <th>1</th>\n",
       "      <td>Alabama</td>\n",
       "      <td>1148987</td>\n",
       "      <td>568267</td>\n",
       "      <td>166537</td>\n",
       "    </tr>\n",
       "    <tr>\n",
       "      <th>2</th>\n",
       "      <td>Alaska</td>\n",
       "      <td>149925</td>\n",
       "      <td>76015</td>\n",
       "      <td>32118</td>\n",
       "    </tr>\n",
       "  </tbody>\n",
       "</table>\n",
       "</div>"
      ],
      "text/plain": [
       "0    State  1_or_2_persons  3_or_4_persons  5_or_more_persons\n",
       "1  Alabama         1148987          568267             166537\n",
       "2   Alaska          149925           76015              32118"
      ]
     },
     "execution_count": 15,
     "metadata": {},
     "output_type": "execute_result"
    }
   ],
   "source": [
    "#DF with only new totaled sums\n",
    "household_size_df = household_size_df[['State','1_or_2_persons','3_or_4_persons','5_or_more_persons']]\n",
    "household_size_df.head(2)"
   ]
  },
  {
   "cell_type": "code",
   "execution_count": 16,
   "metadata": {},
   "outputs": [],
   "source": [
    "#household_size_df['State'].to_json(orient = \"records\")"
   ]
  },
  {
   "cell_type": "code",
   "execution_count": 17,
   "metadata": {},
   "outputs": [],
   "source": [
    "#household_size_df['1_or_2_persons'].to_json(orient = \"records\")"
   ]
  },
  {
   "cell_type": "code",
   "execution_count": 18,
   "metadata": {},
   "outputs": [],
   "source": [
    "#household_size_df['3_or_4_persons'].to_json(orient = \"records\")"
   ]
  },
  {
   "cell_type": "code",
   "execution_count": 19,
   "metadata": {},
   "outputs": [],
   "source": [
    "#household_size_df['5_or_more_persons'].to_json(orient = \"records\")"
   ]
  },
  {
   "cell_type": "code",
   "execution_count": 21,
   "metadata": {},
   "outputs": [],
   "source": [
    "#Append row with US which is sum of entire household sizes\n",
    "total_size = household_size_df.apply(np.sum)\n",
    "total_size['State'] = 'US'\n",
    "household_size_df = household_size_df.append(pd.DataFrame(total_size.values, index=total_size.keys()).T, ignore_index=True)"
   ]
  },
  {
   "cell_type": "code",
   "execution_count": 22,
   "metadata": {},
   "outputs": [
    {
     "data": {
      "text/html": [
       "<div>\n",
       "<style scoped>\n",
       "    .dataframe tbody tr th:only-of-type {\n",
       "        vertical-align: middle;\n",
       "    }\n",
       "\n",
       "    .dataframe tbody tr th {\n",
       "        vertical-align: top;\n",
       "    }\n",
       "\n",
       "    .dataframe thead th {\n",
       "        text-align: right;\n",
       "    }\n",
       "</style>\n",
       "<table border=\"1\" class=\"dataframe\">\n",
       "  <thead>\n",
       "    <tr style=\"text-align: right;\">\n",
       "      <th></th>\n",
       "      <th>State</th>\n",
       "      <th>1_or_2_persons</th>\n",
       "      <th>3_or_4_persons</th>\n",
       "      <th>5_or_more_persons</th>\n",
       "    </tr>\n",
       "  </thead>\n",
       "  <tbody>\n",
       "    <tr>\n",
       "      <th>50</th>\n",
       "      <td>Wyoming</td>\n",
       "      <td>147048</td>\n",
       "      <td>59697</td>\n",
       "      <td>20134</td>\n",
       "    </tr>\n",
       "    <tr>\n",
       "      <th>51</th>\n",
       "      <td>Puerto Rico</td>\n",
       "      <td>719012</td>\n",
       "      <td>508806</td>\n",
       "      <td>148713</td>\n",
       "    </tr>\n",
       "    <tr>\n",
       "      <th>52</th>\n",
       "      <td>US</td>\n",
       "      <td>70166549</td>\n",
       "      <td>34892037</td>\n",
       "      <td>13034237</td>\n",
       "    </tr>\n",
       "  </tbody>\n",
       "</table>\n",
       "</div>"
      ],
      "text/plain": [
       "0         State 1_or_2_persons 3_or_4_persons 5_or_more_persons\n",
       "50      Wyoming         147048          59697             20134\n",
       "51  Puerto Rico         719012         508806            148713\n",
       "52           US       70166549       34892037          13034237"
      ]
     },
     "execution_count": 22,
     "metadata": {},
     "output_type": "execute_result"
    }
   ],
   "source": [
    "household_size_df.tail(3)"
   ]
  },
  {
   "cell_type": "markdown",
   "metadata": {},
   "source": [
    "#API to pull income\n",
    "https://api.census.gov/data/2010/acs/acs5/variables.html\n",
    "\n",
    "#Variable used\n",
    "B06011_002E\tEstimate!!Median income in the past 12 months!!Total!!Born in state of residence\tMEDIAN INCOME IN THE PAST 12 MONTHS (IN 2010 INFLATION-ADJUSTED DOLLARS) BY PLACE OF BIRTH IN THE UNITED STATES\n",
    "\n",
    "api.census.gov/data/2010/acs/acs5?key=YOUR KEY GOES HERE&get=B02001_001E,NAME&for=state:06,36"
   ]
  },
  {
   "cell_type": "code",
   "execution_count": 23,
   "metadata": {},
   "outputs": [],
   "source": [
    "#Median Income last 12 months pull\n",
    "income_url = \"https://api.census.gov/data/2010/acs/acs5?key=59a41ecf0dff091bd991b35c87176ffd56b8107d&get=B06011_002E,NAME&for=state:*\"\n",
    "income = requests.get(income_url).json()"
   ]
  },
  {
   "cell_type": "code",
   "execution_count": 24,
   "metadata": {},
   "outputs": [
    {
     "data": {
      "text/html": [
       "<div>\n",
       "<style scoped>\n",
       "    .dataframe tbody tr th:only-of-type {\n",
       "        vertical-align: middle;\n",
       "    }\n",
       "\n",
       "    .dataframe tbody tr th {\n",
       "        vertical-align: top;\n",
       "    }\n",
       "\n",
       "    .dataframe thead th {\n",
       "        text-align: right;\n",
       "    }\n",
       "</style>\n",
       "<table border=\"1\" class=\"dataframe\">\n",
       "  <thead>\n",
       "    <tr style=\"text-align: right;\">\n",
       "      <th></th>\n",
       "      <th>State</th>\n",
       "      <th>med_income_ltm</th>\n",
       "    </tr>\n",
       "  </thead>\n",
       "  <tbody>\n",
       "    <tr>\n",
       "      <th>51</th>\n",
       "      <td>Wyoming</td>\n",
       "      <td>25498</td>\n",
       "    </tr>\n",
       "    <tr>\n",
       "      <th>52</th>\n",
       "      <td>Puerto Rico</td>\n",
       "      <td>None</td>\n",
       "    </tr>\n",
       "  </tbody>\n",
       "</table>\n",
       "</div>"
      ],
      "text/plain": [
       "0         State med_income_ltm\n",
       "51      Wyoming          25498\n",
       "52  Puerto Rico           None"
      ]
     },
     "execution_count": 24,
     "metadata": {},
     "output_type": "execute_result"
    }
   ],
   "source": [
    "income_df = pd.DataFrame(income)\n",
    "income_df.columns = income_df.iloc[0]\n",
    "income_df = income_df.reindex(income_df.index.drop(0))\n",
    "income_df = income_df.rename(columns={\"NAME\":\"State\",\"B06011_002E\":\"med_income_ltm\"})\n",
    "income_df = income_df[['State','med_income_ltm']]\n",
    "income_df.tail(2)"
   ]
  },
  {
   "cell_type": "code",
   "execution_count": 25,
   "metadata": {},
   "outputs": [
    {
     "data": {
      "text/html": [
       "<div>\n",
       "<style scoped>\n",
       "    .dataframe tbody tr th:only-of-type {\n",
       "        vertical-align: middle;\n",
       "    }\n",
       "\n",
       "    .dataframe tbody tr th {\n",
       "        vertical-align: top;\n",
       "    }\n",
       "\n",
       "    .dataframe thead th {\n",
       "        text-align: right;\n",
       "    }\n",
       "</style>\n",
       "<table border=\"1\" class=\"dataframe\">\n",
       "  <thead>\n",
       "    <tr style=\"text-align: right;\">\n",
       "      <th></th>\n",
       "      <th>State</th>\n",
       "      <th>med_income_ltm</th>\n",
       "    </tr>\n",
       "  </thead>\n",
       "  <tbody>\n",
       "    <tr>\n",
       "      <th>48</th>\n",
       "      <td>Washington</td>\n",
       "      <td>27280</td>\n",
       "    </tr>\n",
       "    <tr>\n",
       "      <th>49</th>\n",
       "      <td>West Virginia</td>\n",
       "      <td>20071</td>\n",
       "    </tr>\n",
       "    <tr>\n",
       "      <th>50</th>\n",
       "      <td>Wisconsin</td>\n",
       "      <td>26954</td>\n",
       "    </tr>\n",
       "    <tr>\n",
       "      <th>51</th>\n",
       "      <td>Wyoming</td>\n",
       "      <td>25498</td>\n",
       "    </tr>\n",
       "    <tr>\n",
       "      <th>52</th>\n",
       "      <td>Puerto Rico</td>\n",
       "      <td>0</td>\n",
       "    </tr>\n",
       "  </tbody>\n",
       "</table>\n",
       "</div>"
      ],
      "text/plain": [
       "0           State med_income_ltm\n",
       "48     Washington          27280\n",
       "49  West Virginia          20071\n",
       "50      Wisconsin          26954\n",
       "51        Wyoming          25498\n",
       "52    Puerto Rico              0"
      ]
     },
     "execution_count": 25,
     "metadata": {},
     "output_type": "execute_result"
    }
   ],
   "source": [
    "income_df['med_income_ltm'].fillna(0, inplace=True)\n",
    "income_df.tail()"
   ]
  },
  {
   "cell_type": "code",
   "execution_count": 26,
   "metadata": {},
   "outputs": [],
   "source": [
    "#Change columns to int\n",
    "income_df[\"med_income_ltm\"]= income_df[\"med_income_ltm\"].astype(int)\n",
    "#income_df.dtypes"
   ]
  },
  {
   "cell_type": "code",
   "execution_count": 27,
   "metadata": {},
   "outputs": [],
   "source": [
    "#Append row with US which is sum of entire household sizes\n",
    "total_income = income_df.apply(np.sum)\n",
    "total_income['State'] = 'US'\n",
    "income_df = income_df.append(pd.DataFrame(total_income.values, index=total_income.keys()).T, ignore_index=True)"
   ]
  },
  {
   "cell_type": "code",
   "execution_count": 28,
   "metadata": {},
   "outputs": [
    {
     "data": {
      "text/html": [
       "<div>\n",
       "<style scoped>\n",
       "    .dataframe tbody tr th:only-of-type {\n",
       "        vertical-align: middle;\n",
       "    }\n",
       "\n",
       "    .dataframe tbody tr th {\n",
       "        vertical-align: top;\n",
       "    }\n",
       "\n",
       "    .dataframe thead th {\n",
       "        text-align: right;\n",
       "    }\n",
       "</style>\n",
       "<table border=\"1\" class=\"dataframe\">\n",
       "  <thead>\n",
       "    <tr style=\"text-align: right;\">\n",
       "      <th></th>\n",
       "      <th>State</th>\n",
       "      <th>med_income_ltm</th>\n",
       "    </tr>\n",
       "  </thead>\n",
       "  <tbody>\n",
       "    <tr>\n",
       "      <th>48</th>\n",
       "      <td>West Virginia</td>\n",
       "      <td>20071</td>\n",
       "    </tr>\n",
       "    <tr>\n",
       "      <th>49</th>\n",
       "      <td>Wisconsin</td>\n",
       "      <td>26954</td>\n",
       "    </tr>\n",
       "    <tr>\n",
       "      <th>50</th>\n",
       "      <td>Wyoming</td>\n",
       "      <td>25498</td>\n",
       "    </tr>\n",
       "    <tr>\n",
       "      <th>51</th>\n",
       "      <td>Puerto Rico</td>\n",
       "      <td>0</td>\n",
       "    </tr>\n",
       "    <tr>\n",
       "      <th>52</th>\n",
       "      <td>US</td>\n",
       "      <td>1245145</td>\n",
       "    </tr>\n",
       "  </tbody>\n",
       "</table>\n",
       "</div>"
      ],
      "text/plain": [
       "0           State med_income_ltm\n",
       "48  West Virginia          20071\n",
       "49      Wisconsin          26954\n",
       "50        Wyoming          25498\n",
       "51    Puerto Rico              0\n",
       "52             US        1245145"
      ]
     },
     "execution_count": 28,
     "metadata": {},
     "output_type": "execute_result"
    }
   ],
   "source": [
    "income_df.tail()"
   ]
  },
  {
   "cell_type": "code",
   "execution_count": 30,
   "metadata": {},
   "outputs": [],
   "source": [
    "#income_df['State'].to_json(orient = \"records\")"
   ]
  },
  {
   "cell_type": "code",
   "execution_count": 32,
   "metadata": {},
   "outputs": [],
   "source": [
    "#income_df['med_income_ltm'].to_json(orient = \"records\")"
   ]
  },
  {
   "cell_type": "code",
   "execution_count": 33,
   "metadata": {},
   "outputs": [],
   "source": [
    "#Age pull\n",
    "age_url = \"https://api.census.gov/data/2010/dec/sf1?get=NAME,P013003,P013002&for=state:*&key=59a41ecf0dff091bd991b35c87176ffd56b8107d\"\n",
    "age = requests.get(age_url).json()"
   ]
  },
  {
   "cell_type": "code",
   "execution_count": 35,
   "metadata": {},
   "outputs": [
    {
     "data": {
      "text/html": [
       "<div>\n",
       "<style scoped>\n",
       "    .dataframe tbody tr th:only-of-type {\n",
       "        vertical-align: middle;\n",
       "    }\n",
       "\n",
       "    .dataframe tbody tr th {\n",
       "        vertical-align: top;\n",
       "    }\n",
       "\n",
       "    .dataframe thead th {\n",
       "        text-align: right;\n",
       "    }\n",
       "</style>\n",
       "<table border=\"1\" class=\"dataframe\">\n",
       "  <thead>\n",
       "    <tr style=\"text-align: right;\">\n",
       "      <th></th>\n",
       "      <th>State</th>\n",
       "      <th>med_age_female</th>\n",
       "      <th>med_age_male</th>\n",
       "    </tr>\n",
       "  </thead>\n",
       "  <tbody>\n",
       "    <tr>\n",
       "      <th>51</th>\n",
       "      <td>Wyoming</td>\n",
       "      <td>37.7</td>\n",
       "      <td>36.0</td>\n",
       "    </tr>\n",
       "    <tr>\n",
       "      <th>52</th>\n",
       "      <td>Puerto Rico</td>\n",
       "      <td>38.6</td>\n",
       "      <td>35.1</td>\n",
       "    </tr>\n",
       "  </tbody>\n",
       "</table>\n",
       "</div>"
      ],
      "text/plain": [
       "0         State med_age_female med_age_male\n",
       "51      Wyoming           37.7         36.0\n",
       "52  Puerto Rico           38.6         35.1"
      ]
     },
     "execution_count": 35,
     "metadata": {},
     "output_type": "execute_result"
    }
   ],
   "source": [
    "age_df = pd.DataFrame(age)\n",
    "age_df.columns = age_df.iloc[0]\n",
    "age_df = age_df.reindex(age_df.index.drop(0))\n",
    "age_df = age_df.rename(columns={\"NAME\":\"State\",\"P013003\":\"med_age_female\",\"P013002\":\"med_age_male\"})\n",
    "del age_df['state']\n",
    "age_df.tail(2)"
   ]
  },
  {
   "cell_type": "code",
   "execution_count": 36,
   "metadata": {},
   "outputs": [
    {
     "data": {
      "text/plain": [
       "0\n",
       "State             object\n",
       "med_age_female    object\n",
       "med_age_male      object\n",
       "dtype: object"
      ]
     },
     "execution_count": 36,
     "metadata": {},
     "output_type": "execute_result"
    }
   ],
   "source": [
    "age_df['med_age_female'].astype(float)\n",
    "age_df['med_age_male'].astype(float)\n",
    "#age_df.med_age_female = age_df.med_age_female.round()\n",
    "age_df.dtypes"
   ]
  },
  {
   "cell_type": "code",
   "execution_count": 37,
   "metadata": {},
   "outputs": [],
   "source": [
    "#Change columns to int\n",
    "#age_df['med_age_female'].astype(str).astype(float)\n",
    "#age_df['med_age_male'].astype(str).astype(float)\n",
    "#age_df[\"med_age_female\"]= age_df[\"med_age_female\"].astype(float)\n",
    "#age_df[\"med_age_male\"]= age_df[\"med_age_male\"].astype(float)"
   ]
  },
  {
   "cell_type": "code",
   "execution_count": 38,
   "metadata": {},
   "outputs": [
    {
     "data": {
      "text/html": [
       "<div>\n",
       "<style scoped>\n",
       "    .dataframe tbody tr th:only-of-type {\n",
       "        vertical-align: middle;\n",
       "    }\n",
       "\n",
       "    .dataframe tbody tr th {\n",
       "        vertical-align: top;\n",
       "    }\n",
       "\n",
       "    .dataframe thead th {\n",
       "        text-align: right;\n",
       "    }\n",
       "</style>\n",
       "<table border=\"1\" class=\"dataframe\">\n",
       "  <thead>\n",
       "    <tr style=\"text-align: right;\">\n",
       "      <th></th>\n",
       "      <th>State</th>\n",
       "      <th>med_age_female</th>\n",
       "      <th>med_age_male</th>\n",
       "    </tr>\n",
       "  </thead>\n",
       "  <tbody>\n",
       "    <tr>\n",
       "      <th>48</th>\n",
       "      <td>Washington</td>\n",
       "      <td>38.3</td>\n",
       "      <td>36.2</td>\n",
       "    </tr>\n",
       "    <tr>\n",
       "      <th>49</th>\n",
       "      <td>West Virginia</td>\n",
       "      <td>42.6</td>\n",
       "      <td>40.1</td>\n",
       "    </tr>\n",
       "    <tr>\n",
       "      <th>50</th>\n",
       "      <td>Wisconsin</td>\n",
       "      <td>39.6</td>\n",
       "      <td>37.3</td>\n",
       "    </tr>\n",
       "    <tr>\n",
       "      <th>51</th>\n",
       "      <td>Wyoming</td>\n",
       "      <td>37.7</td>\n",
       "      <td>36.0</td>\n",
       "    </tr>\n",
       "    <tr>\n",
       "      <th>52</th>\n",
       "      <td>Puerto Rico</td>\n",
       "      <td>38.6</td>\n",
       "      <td>35.1</td>\n",
       "    </tr>\n",
       "  </tbody>\n",
       "</table>\n",
       "</div>"
      ],
      "text/plain": [
       "0           State med_age_female med_age_male\n",
       "48     Washington           38.3         36.2\n",
       "49  West Virginia           42.6         40.1\n",
       "50      Wisconsin           39.6         37.3\n",
       "51        Wyoming           37.7         36.0\n",
       "52    Puerto Rico           38.6         35.1"
      ]
     },
     "execution_count": 38,
     "metadata": {},
     "output_type": "execute_result"
    }
   ],
   "source": [
    "age_df.tail()"
   ]
  },
  {
   "cell_type": "code",
   "execution_count": 39,
   "metadata": {},
   "outputs": [],
   "source": [
    "#age_df.to_json(orient = \"records\")"
   ]
  },
  {
   "cell_type": "code",
   "execution_count": 40,
   "metadata": {},
   "outputs": [],
   "source": [
    "#Occupancy pull\n",
    "occupancy_url = \"https://api.census.gov/data/2010/dec/sf1?get=NAME,H004003,H004002,H004004&for=state:*&key=59a41ecf0dff091bd991b35c87176ffd56b8107d\"\n",
    "occupancy = requests.get(occupancy_url).json()"
   ]
  },
  {
   "cell_type": "code",
   "execution_count": 41,
   "metadata": {},
   "outputs": [
    {
     "data": {
      "text/html": [
       "<div>\n",
       "<style scoped>\n",
       "    .dataframe tbody tr th:only-of-type {\n",
       "        vertical-align: middle;\n",
       "    }\n",
       "\n",
       "    .dataframe tbody tr th {\n",
       "        vertical-align: top;\n",
       "    }\n",
       "\n",
       "    .dataframe thead th {\n",
       "        text-align: right;\n",
       "    }\n",
       "</style>\n",
       "<table border=\"1\" class=\"dataframe\">\n",
       "  <thead>\n",
       "    <tr style=\"text-align: right;\">\n",
       "      <th></th>\n",
       "      <th>State</th>\n",
       "      <th>owned_free_clear</th>\n",
       "      <th>owned_mortgage</th>\n",
       "      <th>rent</th>\n",
       "    </tr>\n",
       "  </thead>\n",
       "  <tbody>\n",
       "    <tr>\n",
       "      <th>48</th>\n",
       "      <td>Washington</td>\n",
       "      <td>428656</td>\n",
       "      <td>1245264</td>\n",
       "      <td>946156</td>\n",
       "    </tr>\n",
       "    <tr>\n",
       "      <th>49</th>\n",
       "      <td>West Virginia</td>\n",
       "      <td>267491</td>\n",
       "      <td>293522</td>\n",
       "      <td>202818</td>\n",
       "    </tr>\n",
       "    <tr>\n",
       "      <th>50</th>\n",
       "      <td>Wisconsin</td>\n",
       "      <td>469459</td>\n",
       "      <td>1082099</td>\n",
       "      <td>728210</td>\n",
       "    </tr>\n",
       "    <tr>\n",
       "      <th>51</th>\n",
       "      <td>Wyoming</td>\n",
       "      <td>57296</td>\n",
       "      <td>99781</td>\n",
       "      <td>69802</td>\n",
       "    </tr>\n",
       "    <tr>\n",
       "      <th>52</th>\n",
       "      <td>Puerto Rico</td>\n",
       "      <td>554508</td>\n",
       "      <td>431657</td>\n",
       "      <td>390366</td>\n",
       "    </tr>\n",
       "  </tbody>\n",
       "</table>\n",
       "</div>"
      ],
      "text/plain": [
       "0           State owned_free_clear owned_mortgage    rent\n",
       "48     Washington           428656        1245264  946156\n",
       "49  West Virginia           267491         293522  202818\n",
       "50      Wisconsin           469459        1082099  728210\n",
       "51        Wyoming            57296          99781   69802\n",
       "52    Puerto Rico           554508         431657  390366"
      ]
     },
     "execution_count": 41,
     "metadata": {},
     "output_type": "execute_result"
    }
   ],
   "source": [
    "occupancy_df = pd.DataFrame(occupancy)\n",
    "occupancy_df.columns = occupancy_df.iloc[0]\n",
    "occupancy_df = occupancy_df.reindex(occupancy_df.index.drop(0))\n",
    "occupancy_df = occupancy_df.rename(columns={\"NAME\":\"State\",\"H004003\":\"owned_free_clear\",\"H004002\":\"owned_mortgage\",\"H004004\":\"rent\"})\n",
    "del occupancy_df['state']\n",
    "occupancy_df.tail()"
   ]
  },
  {
   "cell_type": "code",
   "execution_count": 42,
   "metadata": {},
   "outputs": [],
   "source": [
    "#Change columns to int\n",
    "occupancy_df[\"owned_free_clear\"]= occupancy_df[\"owned_free_clear\"].astype(int)\n",
    "occupancy_df[\"owned_mortgage\"]= occupancy_df[\"owned_mortgage\"].astype(int)\n",
    "occupancy_df[\"rent\"]= occupancy_df[\"rent\"].astype(int)"
   ]
  },
  {
   "cell_type": "code",
   "execution_count": 43,
   "metadata": {},
   "outputs": [],
   "source": [
    "#Append row with US which is sum of entire household sizes\n",
    "total_occupancy = occupancy_df.apply(np.sum)\n",
    "total_occupancy['State'] = 'US'\n",
    "occupancy_df = occupancy_df.append(pd.DataFrame(total_occupancy.values, index=total_occupancy.keys()).T, ignore_index=True)"
   ]
  },
  {
   "cell_type": "code",
   "execution_count": 44,
   "metadata": {},
   "outputs": [
    {
     "data": {
      "text/html": [
       "<div>\n",
       "<style scoped>\n",
       "    .dataframe tbody tr th:only-of-type {\n",
       "        vertical-align: middle;\n",
       "    }\n",
       "\n",
       "    .dataframe tbody tr th {\n",
       "        vertical-align: top;\n",
       "    }\n",
       "\n",
       "    .dataframe thead th {\n",
       "        text-align: right;\n",
       "    }\n",
       "</style>\n",
       "<table border=\"1\" class=\"dataframe\">\n",
       "  <thead>\n",
       "    <tr style=\"text-align: right;\">\n",
       "      <th></th>\n",
       "      <th>State</th>\n",
       "      <th>owned_free_clear</th>\n",
       "      <th>owned_mortgage</th>\n",
       "      <th>rent</th>\n",
       "    </tr>\n",
       "  </thead>\n",
       "  <tbody>\n",
       "    <tr>\n",
       "      <th>48</th>\n",
       "      <td>West Virginia</td>\n",
       "      <td>267491</td>\n",
       "      <td>293522</td>\n",
       "      <td>202818</td>\n",
       "    </tr>\n",
       "    <tr>\n",
       "      <th>49</th>\n",
       "      <td>Wisconsin</td>\n",
       "      <td>469459</td>\n",
       "      <td>1082099</td>\n",
       "      <td>728210</td>\n",
       "    </tr>\n",
       "    <tr>\n",
       "      <th>50</th>\n",
       "      <td>Wyoming</td>\n",
       "      <td>57296</td>\n",
       "      <td>99781</td>\n",
       "      <td>69802</td>\n",
       "    </tr>\n",
       "    <tr>\n",
       "      <th>51</th>\n",
       "      <td>Puerto Rico</td>\n",
       "      <td>554508</td>\n",
       "      <td>431657</td>\n",
       "      <td>390366</td>\n",
       "    </tr>\n",
       "    <tr>\n",
       "      <th>52</th>\n",
       "      <td>US</td>\n",
       "      <td>23561152</td>\n",
       "      <td>53411087</td>\n",
       "      <td>41120584</td>\n",
       "    </tr>\n",
       "  </tbody>\n",
       "</table>\n",
       "</div>"
      ],
      "text/plain": [
       "0           State owned_free_clear owned_mortgage      rent\n",
       "48  West Virginia           267491         293522    202818\n",
       "49      Wisconsin           469459        1082099    728210\n",
       "50        Wyoming            57296          99781     69802\n",
       "51    Puerto Rico           554508         431657    390366\n",
       "52             US         23561152       53411087  41120584"
      ]
     },
     "execution_count": 44,
     "metadata": {},
     "output_type": "execute_result"
    }
   ],
   "source": [
    "occupancy_df.tail()"
   ]
  },
  {
   "cell_type": "code",
   "execution_count": 45,
   "metadata": {},
   "outputs": [],
   "source": [
    "#Merge data-frames\n",
    "merged_df = population_df.merge(race_df.merge(household_size_df, on='State'), on='State') \n",
    "merged_df_2 = income_df.merge(occupancy_df, on='State') \n",
    "merged_final = merged_df.merge(merged_df_2, on=\"State\")"
   ]
  },
  {
   "cell_type": "code",
   "execution_count": 47,
   "metadata": {},
   "outputs": [
    {
     "data": {
      "text/html": [
       "<div>\n",
       "<style scoped>\n",
       "    .dataframe tbody tr th:only-of-type {\n",
       "        vertical-align: middle;\n",
       "    }\n",
       "\n",
       "    .dataframe tbody tr th {\n",
       "        vertical-align: top;\n",
       "    }\n",
       "\n",
       "    .dataframe thead th {\n",
       "        text-align: right;\n",
       "    }\n",
       "</style>\n",
       "<table border=\"1\" class=\"dataframe\">\n",
       "  <thead>\n",
       "    <tr style=\"text-align: right;\">\n",
       "      <th></th>\n",
       "      <th>State</th>\n",
       "      <th>population</th>\n",
       "      <th>american_indian_and_alaska_native</th>\n",
       "      <th>asian</th>\n",
       "      <th>black_or_african_american</th>\n",
       "      <th>hispanic_or_latino</th>\n",
       "      <th>native_hawaiian_other_pacific_islander</th>\n",
       "      <th>some_other_race</th>\n",
       "      <th>two_or_more_races</th>\n",
       "      <th>white</th>\n",
       "      <th>1_or_2_persons</th>\n",
       "      <th>3_or_4_persons</th>\n",
       "      <th>5_or_more_persons</th>\n",
       "      <th>med_income_ltm</th>\n",
       "      <th>owned_free_clear</th>\n",
       "      <th>owned_mortgage</th>\n",
       "      <th>rent</th>\n",
       "    </tr>\n",
       "  </thead>\n",
       "  <tbody>\n",
       "    <tr>\n",
       "      <th>50</th>\n",
       "      <td>Wyoming</td>\n",
       "      <td>563626</td>\n",
       "      <td>13336</td>\n",
       "      <td>4426</td>\n",
       "      <td>4748</td>\n",
       "      <td>50231</td>\n",
       "      <td>427</td>\n",
       "      <td>17049</td>\n",
       "      <td>12361</td>\n",
       "      <td>511279</td>\n",
       "      <td>147048</td>\n",
       "      <td>59697</td>\n",
       "      <td>20134</td>\n",
       "      <td>25498</td>\n",
       "      <td>57296</td>\n",
       "      <td>99781</td>\n",
       "      <td>69802</td>\n",
       "    </tr>\n",
       "    <tr>\n",
       "      <th>51</th>\n",
       "      <td>Puerto Rico</td>\n",
       "      <td>3725789</td>\n",
       "      <td>19839</td>\n",
       "      <td>6831</td>\n",
       "      <td>461498</td>\n",
       "      <td>3688455</td>\n",
       "      <td>370</td>\n",
       "      <td>289905</td>\n",
       "      <td>122246</td>\n",
       "      <td>2825100</td>\n",
       "      <td>719012</td>\n",
       "      <td>508806</td>\n",
       "      <td>148713</td>\n",
       "      <td>0</td>\n",
       "      <td>554508</td>\n",
       "      <td>431657</td>\n",
       "      <td>390366</td>\n",
       "    </tr>\n",
       "    <tr>\n",
       "      <th>52</th>\n",
       "      <td>US</td>\n",
       "      <td>312471327</td>\n",
       "      <td>2952087</td>\n",
       "      <td>14681083</td>\n",
       "      <td>39390817</td>\n",
       "      <td>54166049</td>\n",
       "      <td>540383</td>\n",
       "      <td>19397273</td>\n",
       "      <td>9131319</td>\n",
       "      <td>226378365</td>\n",
       "      <td>70166549</td>\n",
       "      <td>34892037</td>\n",
       "      <td>13034237</td>\n",
       "      <td>1245145</td>\n",
       "      <td>23561152</td>\n",
       "      <td>53411087</td>\n",
       "      <td>41120584</td>\n",
       "    </tr>\n",
       "  </tbody>\n",
       "</table>\n",
       "</div>"
      ],
      "text/plain": [
       "0         State population american_indian_and_alaska_native     asian  \\\n",
       "50      Wyoming     563626                             13336      4426   \n",
       "51  Puerto Rico    3725789                             19839      6831   \n",
       "52           US  312471327                           2952087  14681083   \n",
       "\n",
       "0  black_or_african_american hispanic_or_latino  \\\n",
       "50                      4748              50231   \n",
       "51                    461498            3688455   \n",
       "52                  39390817           54166049   \n",
       "\n",
       "0  native_hawaiian_other_pacific_islander some_other_race two_or_more_races  \\\n",
       "50                                    427           17049             12361   \n",
       "51                                    370          289905            122246   \n",
       "52                                 540383        19397273           9131319   \n",
       "\n",
       "0       white 1_or_2_persons 3_or_4_persons 5_or_more_persons med_income_ltm  \\\n",
       "50     511279         147048          59697             20134          25498   \n",
       "51    2825100         719012         508806            148713              0   \n",
       "52  226378365       70166549       34892037          13034237        1245145   \n",
       "\n",
       "0  owned_free_clear owned_mortgage      rent  \n",
       "50            57296          99781     69802  \n",
       "51           554508         431657    390366  \n",
       "52         23561152       53411087  41120584  "
      ]
     },
     "execution_count": 47,
     "metadata": {},
     "output_type": "execute_result"
    }
   ],
   "source": [
    "merged_final.tail(3)"
   ]
  },
  {
   "cell_type": "code",
   "execution_count": 48,
   "metadata": {},
   "outputs": [],
   "source": [
    "merged_final.to_excel(\"census_data.xlsx\")"
   ]
  }
 ],
 "metadata": {
  "kernelspec": {
   "display_name": "Python 3",
   "language": "python",
   "name": "python3"
  },
  "language_info": {
   "codemirror_mode": {
    "name": "ipython",
    "version": 3
   },
   "file_extension": ".py",
   "mimetype": "text/x-python",
   "name": "python",
   "nbconvert_exporter": "python",
   "pygments_lexer": "ipython3",
   "version": "3.7.0"
  }
 },
 "nbformat": 4,
 "nbformat_minor": 2
}
